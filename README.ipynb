
        {
            "cells": [
          {
           "cell_type": "markdown",
           "metadata": {},
           
           "source": ["# Running notebooks in MyBinder\n",
"\n",
"The `Dockerfile` and `NuGet.config` allow us to run generated notebooks in [MyBinder](https://mybinder.org)\n",
"\n",
"* `master` branch of fsprojects/Furnace:  [![Binder](https://mybinder.org/badge_logo.svg)](https://mybinder.org/v2/gh/fsprojects/Furnace/master)\n",
"\n",
"# Generating docs\n",
"\n",
"To iterate on docs (requires evaluation off since DLLs get locked)\n",
"\n",
"    dotnet fsdocs watch \n",
"\n",
"To use a local build of FSharp.Formatting:\n",
"\n",
"       git clone https://github.com/fsprojects/FSharp.Formatting  ../FSharp.Formatting\n",
"       pushd ..\\FSharp.Formatting\n",
"       .\\build\n",
"       popd\n",
"       pop\n",
"\n",
"Then:\n",
"\n",
"       ..\\FSharp.Formatting\\src\\FSharp.Formatting.CommandTool\\bin\\Debug\\net6.0\\fsdocs.exe watch\n",
"       ..\\FSharp.Formatting\\src\\FSharp.Formatting.CommandTool\\bin\\Debug\\net6.0\\fsdocs.exe build --clean --eval\n",
"\n",
"## Generated Notebooks\n",
"\n",
"Notebooks are generated for all .md and .fsx files under docs as part of the build.\n",
"\n",
"* Dockerfile - see [https://github.com/dotnet/interactive/blob/master/docs/CreateBinder.md](https://github.com/dotnet/interactive/blob/master/docs/CreateBinder.md)\n",
"  \n",
"\n",
"* NuGet.config - likewise\n",
"  \n",
"\n",
"See MyBinder for creating URLs\n",
"\n"]
          }],
            "metadata": {
            "kernelspec": {"display_name": ".NET (F#)", "language": "F#", "name": ".net-fsharp"},
            "langauge_info": {
        "file_extension": ".fs",
        "mimetype": "text/x-fsharp",
        "name": "C#",
        "pygments_lexer": "fsharp",
        "version": "4.5"
        }
        },
            "nbformat": 4,
            "nbformat_minor": 1
        }
        

