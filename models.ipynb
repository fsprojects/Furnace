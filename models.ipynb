
        {
            "cells": [
          {
           "cell_type": "markdown",
           "metadata": {},
           
           "source": ["Test\n",
"\n"]
          }
,
          {
           "cell_type": "code",
           "metadata": {},
            "execution_count": 2, "outputs": [
          {
           "data": {
            "text/plain": [""]
        },
           "execution_count": 2,
           "metadata": {},
           "output_type": "execute_result"
          }],
           "source": ["open Furnace\n",
"\n",
"FurnaceImage.config(backend=Backend.Reference)\n",
"\n",
"let a = FurnaceImage.tensor([1,2,3])\n",
"printfn \"%A\" a\n"]
          }],
            "metadata": {
            "kernelspec": {"display_name": ".NET (F#)", "language": "F#", "name": ".net-fsharp"},
            "langauge_info": {
        "file_extension": ".fs",
        "mimetype": "text/x-fsharp",
        "name": "C#",
        "pygments_lexer": "fsharp",
        "version": "4.5"
        }
        },
            "nbformat": 4,
            "nbformat_minor": 1
        }
        

